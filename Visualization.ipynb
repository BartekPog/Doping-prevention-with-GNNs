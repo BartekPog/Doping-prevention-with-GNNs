{
 "cells": [
  {
   "cell_type": "code",
   "execution_count": 1,
   "id": "524e0626",
   "metadata": {},
   "outputs": [],
   "source": [
    "from src.data_preparation import DataPreprocessor\n",
    "# synthetic dataset \n",
    "df = DataPreprocessor(data_path='data/data.xlsx', swap_rate=0.4).get_dataframe()"
   ]
  },
  {
   "cell_type": "code",
   "execution_count": 2,
   "id": "967006a4",
   "metadata": {},
   "outputs": [
    {
     "name": "stdout",
     "output_type": "stream",
     "text": [
      "<class 'pandas.core.frame.DataFrame'>\n"
     ]
    }
   ],
   "source": [
    "# raw dataset \n",
    "raw_df = DataPreprocessor().get_raw_dataframe()\n",
    "print(type(raw_df))"
   ]
  },
  {
   "cell_type": "code",
   "execution_count": 4,
   "id": "5be753d6",
   "metadata": {},
   "outputs": [
    {
     "name": "stdout",
     "output_type": "stream",
     "text": [
      "\n"
     ]
    }
   ],
   "source": [
    "data_top = df.head()\n",
    "#print(df.columns)\n",
    "print()\n",
    "df.to_csv('swapped_data.csv')"
   ]
  },
  {
   "cell_type": "code",
   "execution_count": 5,
   "id": "63f81c08",
   "metadata": {},
   "outputs": [
    {
     "name": "stdout",
     "output_type": "stream",
     "text": [
      "       athlete_id_real  specific_gravity  in_competition   adiol   bdiol  \\\n",
      "2                    1             1.008           False    9.97    6.54   \n",
      "4                    6             1.008           False   29.90   69.90   \n",
      "6                    6             1.007           False   23.10   61.70   \n",
      "7                    6             1.015           False  120.50  326.90   \n",
      "8                    6             1.019           False  114.80  252.60   \n",
      "...                ...               ...             ...     ...     ...   \n",
      "10104            46337             1.019           False   22.04   98.68   \n",
      "10105            46342             1.020           False  114.70  408.60   \n",
      "10106            46342             1.018           False   55.30  172.90   \n",
      "10107            46342             1.014           False   72.10  194.30   \n",
      "10114            46429             1.011           False   19.40   19.80   \n",
      "\n",
      "       androsterone  etiocholanolone  epitestosterone  testosterone  \\\n",
      "2            732.11           330.76             5.41          0.94   \n",
      "4           1526.00           672.00            17.40         20.40   \n",
      "6           1360.00           590.00            12.90         12.50   \n",
      "7           4085.00          2944.00            51.70         64.50   \n",
      "8           5466.00          2621.00            69.90         53.30   \n",
      "...             ...              ...              ...           ...   \n",
      "10104       1725.17          1979.36             7.70         25.51   \n",
      "10105       3740.80          4882.80            14.60         35.00   \n",
      "10106       1825.20          2908.70             3.60         15.60   \n",
      "10107       2848.40          2933.60             7.50         23.20   \n",
      "10114       1097.00           782.00            21.50          2.40   \n",
      "\n",
      "       t_e_ratio  ...  adiol_corr  bdiol_corr  androsterone_corr  \\\n",
      "2           0.17  ...       24.92       16.35            1830.27   \n",
      "4           1.17  ...       74.75      174.75            3815.00   \n",
      "6           0.97  ...       66.00      176.29            3885.71   \n",
      "7           1.25  ...      160.67      435.87            5446.67   \n",
      "8           0.76  ...      120.84      265.89            5753.68   \n",
      "...          ...  ...         ...         ...                ...   \n",
      "10104       3.31  ...       23.20      103.88            1815.96   \n",
      "10105       2.40  ...      114.70      408.60            3740.80   \n",
      "10106       4.33  ...       61.44      192.11            2028.00   \n",
      "10107       3.08  ...      103.00      277.57            4069.14   \n",
      "10114       0.11  ...       35.27       36.00            1994.55   \n",
      "\n",
      "       etiocholanolone_corr  epitestosterone_corr  testosterone_corr  \\\n",
      "2                    826.90                 13.52               2.34   \n",
      "4                   1680.00                 43.50              51.00   \n",
      "6                   1685.71                 36.86              35.71   \n",
      "7                   3925.33                 68.93              86.00   \n",
      "8                   2758.95                 73.58              56.11   \n",
      "...                     ...                   ...                ...   \n",
      "10104               2083.54                  8.10              26.85   \n",
      "10105               4882.80                 14.60              35.00   \n",
      "10106               3231.89                  4.00              17.33   \n",
      "10107               4190.86                 10.71              33.14   \n",
      "10114               1421.82                 39.09               4.36   \n",
      "\n",
      "       total_observations  athlete_id  is_swapped  is_male  \n",
      "2                       4       39919        True     True  \n",
      "4                       6       26852        True     True  \n",
      "6                       6        2865        True     True  \n",
      "7                       6       30126        True     True  \n",
      "8                       6        4939        True     True  \n",
      "...                   ...         ...         ...      ...  \n",
      "10104                   7       23805        True     True  \n",
      "10105                   4       37204        True     True  \n",
      "10106                   4       19059        True     True  \n",
      "10107                   4        1688        True     True  \n",
      "10114                   5       19902        True     True  \n",
      "\n",
      "[4040 rows x 24 columns]\n"
     ]
    }
   ],
   "source": [
    "df_swapped = df[df.is_swapped == True]\n",
    "print(df_swapped)"
   ]
  },
  {
   "cell_type": "code",
   "execution_count": 6,
   "id": "6a22c3ea",
   "metadata": {},
   "outputs": [],
   "source": [
    "import pandas as pd \n",
    "\n",
    "uniq_nodes = []\n",
    "nodes_data = []\n",
    "for index, row in df.iterrows():\n",
    "    curr_sample = []\n",
    "    #curr_sample.append(\"Athlete\")\n",
    "    curr_sample.append(row['athlete_id_real'])\n",
    "    #curr_sample.append(row['is_male'])\n",
    "    #print(curr_sample)\n",
    "    \n",
    "    if(row['athlete_id_real'] not in uniq_nodes):\n",
    "        nodes_data.append(curr_sample)\n",
    "        \n",
    "    uniq_nodes.append(row['athlete_id_real'])\n",
    "        \n",
    "# dataframe for indivual nodes \n",
    "df_nodes = pd.DataFrame(nodes_data, columns = ['ID'])\n",
    "df_nodes\n",
    "\n",
    "df_nodes.to_csv('nodes.csv', index = False)"
   ]
  },
  {
   "cell_type": "code",
   "execution_count": 7,
   "id": "60b9fee0",
   "metadata": {},
   "outputs": [],
   "source": [
    "edges_data = []\n",
    "for index, row in df.iterrows():\n",
    "    curr_sample = []\n",
    "    #curr_sample.append(\"Athlete\")\n",
    "    curr_sample.append(row['athlete_id_real'])\n",
    "    #curr_sample.append(\"Athlete\")\n",
    "    curr_sample.append(row['athlete_id'])\n",
    "    #curr_sample.append(1)\n",
    "    # create an edge only if the sample is swapped\n",
    "    if(row['is_swapped'] == True):\n",
    "        edges_data.append(curr_sample)\n",
    "\n",
    "#df_edges = pd.DataFrame(edges_data, columns = ['Source', 'Target', 'Label'])\n",
    "df_edges = pd.DataFrame(edges_data, columns = ['Source', 'Target'])\n",
    "df_edges\n",
    "\n",
    "df_edges.to_csv('edges.csv', index = False)"
   ]
  }
 ],
 "metadata": {
  "kernelspec": {
   "display_name": "Python 3 (ipykernel)",
   "language": "python",
   "name": "python3"
  },
  "language_info": {
   "codemirror_mode": {
    "name": "ipython",
    "version": 3
   },
   "file_extension": ".py",
   "mimetype": "text/x-python",
   "name": "python",
   "nbconvert_exporter": "python",
   "pygments_lexer": "ipython3",
   "version": "3.7.11"
  }
 },
 "nbformat": 4,
 "nbformat_minor": 5
}
