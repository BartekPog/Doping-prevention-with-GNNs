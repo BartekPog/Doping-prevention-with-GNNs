{
 "cells": [
  {
   "cell_type": "code",
   "execution_count": 11,
   "id": "524e0626",
   "metadata": {},
   "outputs": [],
   "source": [
    "from src.data_preparation import DataPreprocessor\n",
    "# synthetic dataset \n",
    "df = DataPreprocessor(data_path='data/data.xlsx', swap_rate=0.4).get_dataframe()"
   ]
  },
  {
   "cell_type": "code",
   "execution_count": 12,
   "id": "967006a4",
   "metadata": {},
   "outputs": [
    {
     "name": "stdout",
     "output_type": "stream",
     "text": [
      "<class 'pandas.core.frame.DataFrame'>\n"
     ]
    }
   ],
   "source": [
    "# raw dataset \n",
    "raw_df = DataPreprocessor().get_raw_dataframe()\n",
    "print(type(raw_df))"
   ]
  },
  {
   "cell_type": "code",
   "execution_count": 16,
   "id": "5be753d6",
   "metadata": {},
   "outputs": [
    {
     "name": "stdout",
     "output_type": "stream",
     "text": [
      "\n"
     ]
    }
   ],
   "source": [
    "data_top = df.head()\n",
    "#print(df.columns)\n",
    "print()\n",
    "df.to_csv('swapped_data.csv')"
   ]
  },
  {
   "cell_type": "code",
   "execution_count": 15,
   "id": "63f81c08",
   "metadata": {},
   "outputs": [
    {
     "name": "stdout",
     "output_type": "stream",
     "text": [
      "       athlete_id_real  specific_gravity  in_competition   adiol   bdiol  \\\n",
      "2                    1             1.008           False    9.97    6.54   \n",
      "3                    1             1.004           False   10.64    5.05   \n",
      "5                    6             1.018           False  159.60  451.90   \n",
      "6                    6             1.007           False   23.10   61.70   \n",
      "7                    6             1.015           False  120.50  326.90   \n",
      "...                ...               ...             ...     ...     ...   \n",
      "10108            46342             1.013           False   73.30  177.40   \n",
      "10113            46429             1.016           False   17.50   17.40   \n",
      "10115            46429             1.017           False   23.00   19.00   \n",
      "10116            46429             1.016           False   22.40   18.80   \n",
      "10117            46429             1.019           False   34.30   47.30   \n",
      "\n",
      "       androsterone  etiocholanolone  epitestosterone  testosterone  \\\n",
      "2            732.11           330.76             5.41          0.94   \n",
      "3            542.51           192.36             4.08          1.45   \n",
      "5           6654.00          4625.00            93.70        121.20   \n",
      "6           1360.00           590.00            12.90         12.50   \n",
      "7           4085.00          2944.00            51.70         64.50   \n",
      "...             ...              ...              ...           ...   \n",
      "10108       2804.70          2152.40             9.60         32.60   \n",
      "10113       1107.00           670.00            12.20          2.20   \n",
      "10115       1850.00          1070.00            14.00          1.90   \n",
      "10116       1295.00           722.00            14.40          1.50   \n",
      "10117       1695.00          1479.00            39.00          4.50   \n",
      "\n",
      "       t_e_ratio  ...  adiol_corr  bdiol_corr  androsterone_corr  \\\n",
      "2           0.17  ...       24.92       16.35            1830.27   \n",
      "3           0.36  ...       53.18       25.27            2712.53   \n",
      "5           1.29  ...      177.33      502.11            7393.33   \n",
      "6           0.97  ...       66.00      176.29            3885.71   \n",
      "7           1.25  ...      160.67      435.87            5446.67   \n",
      "...          ...  ...         ...         ...                ...   \n",
      "10108       3.39  ...      112.77      272.92            4314.92   \n",
      "10113       0.15  ...       21.88       21.75            1383.75   \n",
      "10115       0.14  ...       27.06       22.35            2176.47   \n",
      "10116       0.10  ...       28.00       23.50            1618.75   \n",
      "10117       0.11  ...       36.11       49.79            1784.21   \n",
      "\n",
      "       etiocholanolone_corr  epitestosterone_corr  testosterone_corr  \\\n",
      "2                    826.90                 13.52               2.34   \n",
      "3                    961.79                 20.40               7.26   \n",
      "5                   5138.89                104.11             134.67   \n",
      "6                   1685.71                 36.86              35.71   \n",
      "7                   3925.33                 68.93              86.00   \n",
      "...                     ...                   ...                ...   \n",
      "10108               3311.38                 14.77              50.15   \n",
      "10113                837.50                 15.25               2.75   \n",
      "10115               1258.82                 16.47               2.24   \n",
      "10116                902.50                 18.00               1.88   \n",
      "10117               1556.84                 41.05               4.74   \n",
      "\n",
      "       total_observations  athlete_id  is_swapped  is_male  \n",
      "2                       4       31421        True     True  \n",
      "3                       4       21558        True     True  \n",
      "5                       6       37417        True     True  \n",
      "6                       6       43893        True     True  \n",
      "7                       6       14991        True     True  \n",
      "...                   ...         ...         ...      ...  \n",
      "10108                   4       12128        True     True  \n",
      "10113                   5        5000        True     True  \n",
      "10115                   5       37462        True     True  \n",
      "10116                   5       13704        True     True  \n",
      "10117                   5       22411        True     True  \n",
      "\n",
      "[4042 rows x 24 columns]\n"
     ]
    }
   ],
   "source": [
    "df_swapped = df[df.is_swapped == True]\n",
    "print(df_swapped)"
   ]
  },
  {
   "cell_type": "code",
   "execution_count": 42,
   "id": "6a22c3ea",
   "metadata": {},
   "outputs": [],
   "source": [
    "import pandas as pd \n",
    "\n",
    "uniq_nodes = []\n",
    "nodes_data = []\n",
    "for index, row in df.iterrows():\n",
    "    curr_sample = []\n",
    "    #curr_sample.append(\"Athlete\")\n",
    "    curr_sample.append(row['athlete_id_real'])\n",
    "    #curr_sample.append(row['is_male'])\n",
    "    #print(curr_sample)\n",
    "    \n",
    "    if(row['athlete_id_real'] not in uniq_nodes):\n",
    "        nodes_data.append(curr_sample)\n",
    "        \n",
    "    uniq_nodes.append(row['athlete_id_real'])\n",
    "        \n",
    "# dataframe for indivual nodes \n",
    "df_nodes = pd.DataFrame(nodes_data, columns = ['ID'])\n",
    "df_nodes\n",
    "\n",
    "df_nodes.to_csv('nodes.csv', index = False)"
   ]
  },
  {
   "cell_type": "code",
   "execution_count": 43,
   "id": "60b9fee0",
   "metadata": {},
   "outputs": [],
   "source": [
    "edges_data = []\n",
    "for index, row in df.iterrows():\n",
    "    curr_sample = []\n",
    "    #curr_sample.append(\"Athlete\")\n",
    "    curr_sample.append(row['athlete_id_real'])\n",
    "    #curr_sample.append(\"Athlete\")\n",
    "    curr_sample.append(row['athlete_id'])\n",
    "    #curr_sample.append(1)\n",
    "    # create an edge only if the sample is swapped\n",
    "    if(row['is_swapped'] == True):\n",
    "        edges_data.append(curr_sample)\n",
    "\n",
    "#df_edges = pd.DataFrame(edges_data, columns = ['Source', 'Target', 'Label'])\n",
    "df_edges = pd.DataFrame(edges_data, columns = ['Source', 'Target'])\n",
    "df_edges\n",
    "\n",
    "df_edges.to_csv('edges.csv', index = False)"
   ]
  }
 ],
 "metadata": {
  "kernelspec": {
   "display_name": "Python 3 (ipykernel)",
   "language": "python",
   "name": "python3"
  },
  "language_info": {
   "codemirror_mode": {
    "name": "ipython",
    "version": 3
   },
   "file_extension": ".py",
   "mimetype": "text/x-python",
   "name": "python",
   "nbconvert_exporter": "python",
   "pygments_lexer": "ipython3",
   "version": "3.7.11"
  }
 },
 "nbformat": 4,
 "nbformat_minor": 5
}
