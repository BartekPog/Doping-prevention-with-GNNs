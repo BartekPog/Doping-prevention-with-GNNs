{
 "cells": [
  {
   "cell_type": "code",
   "execution_count": 1,
   "metadata": {},
   "outputs": [],
   "source": [
    "import torch\n",
    "import numpy as np\n",
    "import pandas as pd\n",
    "from itertools import cycle\n",
    "from torch_geometric.data import Data\n",
    "from src.data_preparation import DataPreprocessor\n",
    "from src.graph_data_loader import graph_loader"
   ]
  },
  {
   "cell_type": "markdown",
   "metadata": {},
   "source": [
    "### Generating Train Test Split Excel Files"
   ]
  },
  {
   "cell_type": "code",
   "execution_count": 2,
   "metadata": {},
   "outputs": [],
   "source": [
    "!python src/generate_splits.py"
   ]
  },
  {
   "cell_type": "markdown",
   "metadata": {},
   "source": [
    "### Graph Dataloader Example"
   ]
  },
  {
   "cell_type": "code",
   "execution_count": 3,
   "metadata": {},
   "outputs": [
    {
     "name": "stdout",
     "output_type": "stream",
     "text": [
      "Reading train data from  data/splits/shuffled/train.xlsx\n",
      "Reading test data from  data/splits/shuffled/test.xlsx\n"
     ]
    }
   ],
   "source": [
    "train_graph, train_target, test_graph, test_target = graph_loader(split_type='mutually_exclusive')"
   ]
  },
  {
   "cell_type": "markdown",
   "metadata": {},
   "source": [
    "#### Train Graph Attributes"
   ]
  },
  {
   "cell_type": "code",
   "execution_count": 4,
   "metadata": {},
   "outputs": [
    {
     "name": "stdout",
     "output_type": "stream",
     "text": [
      "Number of nodes:  7085\n",
      "Number of features per node:  20\n",
      "Number of edges:  22726\n",
      "Number of edge attributes:  0\n",
      "Undirected:  True\n",
      "Isolated Nodes:  True\n",
      "Self Loops:  False\n"
     ]
    }
   ],
   "source": [
    "print(\"Number of nodes: \", train_graph.num_nodes)\n",
    "print(\"Number of features per node: \", train_graph.num_node_features)\n",
    "print(\"Number of edges: \", train_graph.num_edges)\n",
    "print(\"Number of edge attributes: \", train_graph.num_edge_features)\n",
    "print(\"Undirected: \", train_graph.is_undirected())\n",
    "print(\"Isolated Nodes: \", train_graph.has_isolated_nodes())\n",
    "print(\"Self Loops: \", train_graph.has_self_loops())"
   ]
  },
  {
   "cell_type": "markdown",
   "metadata": {},
   "source": [
    "#### Test Graph Attributes"
   ]
  },
  {
   "cell_type": "code",
   "execution_count": 5,
   "metadata": {},
   "outputs": [
    {
     "name": "stdout",
     "output_type": "stream",
     "text": [
      "Number of nodes:  3037\n",
      "Number of features per node:  20\n",
      "Number of edges:  4288\n",
      "Number of edge attributes:  0\n",
      "Undirected:  True\n",
      "Isolated Nodes:  True\n",
      "Self Loops:  False\n"
     ]
    }
   ],
   "source": [
    "print(\"Number of nodes: \", test_graph.num_nodes)\n",
    "print(\"Number of features per node: \", test_graph.num_node_features)\n",
    "print(\"Number of edges: \", test_graph.num_edges)\n",
    "print(\"Number of edge attributes: \", test_graph.num_edge_features)\n",
    "print(\"Undirected: \", test_graph.is_undirected())\n",
    "print(\"Isolated Nodes: \", test_graph.has_isolated_nodes())\n",
    "print(\"Self Loops: \", test_graph.has_self_loops())"
   ]
  },
  {
   "cell_type": "code",
   "execution_count": 22,
   "metadata": {},
   "outputs": [],
   "source": [
    "from sklearn import metrics\n",
    "from src.models import PyGod\n",
    "\n",
    "swap_rate = 0.01\n",
    "\n",
    "model = PyGod(\"mlpae\", swap_rate)\n",
    "model.train(train_graph)\n",
    "train_outlier_scores = model.get_train_scores()\n",
    "test_outlier_scores = model.predict(test_graph)\n",
    "\n",
    "print(\"Train: \", metrics.roc_auc_score(train_target,train_outlier_scores))\n",
    "print(\"Test: \", metrics.roc_auc_score(test_target,test_outlier_scores))"
   ]
  },
  {
   "cell_type": "code",
   "execution_count": 45,
   "metadata": {},
   "outputs": [],
   "source": [
    "import numpy as np \n",
    "\n",
    "def get_random_score(test_target):\n",
    "    test_outlier_scores = np.random.rand(len(test_target))\n",
    "\n",
    "    print(f\"\\n{model_name} train score: \", metrics.roc_auc_score(train_target, train_outlier_scores))\n",
    "\n",
    "    test_score = metrics.roc_auc_score(test_target,test_outlier_scores)\n",
    "    print(f\"{model_name} test score: \", test_score)\n",
    "\n",
    "    fpr, tpr, _ = metrics.roc_curve(test_target, test_outlier_scores)\n",
    "\n",
    "    return{\n",
    "        'label': \"{}, auc={:.3f}\".format(\"random_scores\", test_score),\n",
    "        'fpr': fpr,\n",
    "        'tpr': tpr\n",
    "    }"
   ]
  },
  {
   "cell_type": "code",
   "execution_count": 47,
   "metadata": {
    "scrolled": false
   },
   "outputs": [
    {
     "name": "stdout",
     "output_type": "stream",
     "text": [
      "\n",
      "gcnae train score:  0.6414670463921462\n",
      "gcnae test score:  0.5194665742985798\n",
      "calculating for model mlpae\n",
      "Reading train data from  data/splits/mutually_exclusive/train.xlsx\n",
      "Reading test data from  data/splits/mutually_exclusive/test.xlsx\n"
     ]
    },
    {
     "name": "stderr",
     "output_type": "stream",
     "text": [
      "/Users/bpogodzinski/.local/share/virtualenvs/project-gdFo14Ij/lib/python3.10/site-packages/pygod/utils/utility.py:52: UserWarning: The cuda is not available. Set to cpu.\n",
      "  warnings.warn('The cuda is not available. Set to cpu.')\n"
     ]
    },
    {
     "name": "stdout",
     "output_type": "stream",
     "text": [
      "\n",
      "mlpae train score:  0.4908350519184782\n",
      "mlpae test score:  0.502692529730978\n",
      "calculating for model gcnae\n",
      "Reading train data from  data/splits/mutually_exclusive/train.xlsx\n",
      "Reading test data from  data/splits/mutually_exclusive/test.xlsx\n"
     ]
    },
    {
     "name": "stderr",
     "output_type": "stream",
     "text": [
      "/Users/bpogodzinski/.local/share/virtualenvs/project-gdFo14Ij/lib/python3.10/site-packages/pygod/utils/utility.py:52: UserWarning: The cuda is not available. Set to cpu.\n",
      "  warnings.warn('The cuda is not available. Set to cpu.')\n"
     ]
    },
    {
     "name": "stdout",
     "output_type": "stream",
     "text": [
      "\n",
      "gcnae train score:  0.6073731709343815\n",
      "gcnae test score:  0.6521533310241312\n",
      "calculating for model dominant\n",
      "Reading train data from  data/splits/mutually_exclusive/train.xlsx\n",
      "Reading test data from  data/splits/mutually_exclusive/test.xlsx\n"
     ]
    },
    {
     "name": "stderr",
     "output_type": "stream",
     "text": [
      "/Users/bpogodzinski/.local/share/virtualenvs/project-gdFo14Ij/lib/python3.10/site-packages/pygod/utils/utility.py:52: UserWarning: The cuda is not available. Set to cpu.\n",
      "  warnings.warn('The cuda is not available. Set to cpu.')\n"
     ]
    },
    {
     "name": "stdout",
     "output_type": "stream",
     "text": [
      "\n",
      "dominant train score:  0.45509855319891857\n",
      "dominant test score:  0.4833125505137975\n",
      "calculating for model scan\n",
      "Reading train data from  data/splits/mutually_exclusive/train.xlsx\n",
      "Reading test data from  data/splits/mutually_exclusive/test.xlsx\n"
     ]
    },
    {
     "name": "stderr",
     "output_type": "stream",
     "text": [
      "/Users/bpogodzinski/.local/share/virtualenvs/project-gdFo14Ij/lib/python3.10/site-packages/pygod/models/scan.py:186: UserWarning: The model is transductive only. Training data is used to predict\n",
      "  warnings.warn('The model is transductive only. '\n"
     ]
    },
    {
     "name": "stdout",
     "output_type": "stream",
     "text": [
      "\n",
      "scan train score:  0.5187718180574405\n",
      "Results scoring error for scan:\n",
      "Found input variables with inconsistent numbers of samples: [3037, 7085]\n",
      "calculating for model radar\n",
      "Reading train data from  data/splits/mutually_exclusive/train.xlsx\n",
      "Reading test data from  data/splits/mutually_exclusive/test.xlsx\n"
     ]
    },
    {
     "name": "stderr",
     "output_type": "stream",
     "text": [
      "/Users/bpogodzinski/.local/share/virtualenvs/project-gdFo14Ij/lib/python3.10/site-packages/pygod/utils/utility.py:52: UserWarning: The cuda is not available. Set to cpu.\n",
      "  warnings.warn('The cuda is not available. Set to cpu.')\n",
      "/Users/bpogodzinski/.local/share/virtualenvs/project-gdFo14Ij/lib/python3.10/site-packages/pygod/models/radar.py:142: UserWarning: The model is transductive only. Training data is used to predict\n",
      "  warnings.warn('The model is transductive only. '\n"
     ]
    },
    {
     "name": "stdout",
     "output_type": "stream",
     "text": [
      "\n",
      "radar train score:  0.5131944951556464\n",
      "Results scoring error for radar:\n",
      "Found input variables with inconsistent numbers of samples: [3037, 7085]\n",
      "calculating for model anomalous\n",
      "Reading train data from  data/splits/mutually_exclusive/train.xlsx\n",
      "Reading test data from  data/splits/mutually_exclusive/test.xlsx\n"
     ]
    },
    {
     "name": "stderr",
     "output_type": "stream",
     "text": [
      "/Users/bpogodzinski/.local/share/virtualenvs/project-gdFo14Ij/lib/python3.10/site-packages/pygod/utils/utility.py:52: UserWarning: The cuda is not available. Set to cpu.\n",
      "  warnings.warn('The cuda is not available. Set to cpu.')\n",
      "/Users/bpogodzinski/.local/share/virtualenvs/project-gdFo14Ij/lib/python3.10/site-packages/pygod/models/anomalous.py:143: UserWarning: The model is transductive only. Training data is used to predict\n",
      "  warnings.warn('The model is transductive only. '\n"
     ]
    },
    {
     "name": "stdout",
     "output_type": "stream",
     "text": [
      "\n",
      "anomalous train score:  0.46889591711173617\n",
      "Results scoring error for anomalous:\n",
      "Found input variables with inconsistent numbers of samples: [3037, 7085]\n",
      "calculating for model one\n",
      "Reading train data from  data/splits/mutually_exclusive/train.xlsx\n",
      "Reading test data from  data/splits/mutually_exclusive/test.xlsx\n",
      "Model calculation error for one:\n",
      "operands could not be broadcast together with shapes (3037,3037) (7085,7085) \n",
      "\n",
      "one train score:  0.46889591711173617\n",
      "Results scoring error for one:\n",
      "Found input variables with inconsistent numbers of samples: [3037, 7085]\n",
      "calculating for model done\n",
      "Reading train data from  data/splits/mutually_exclusive/train.xlsx\n",
      "Reading test data from  data/splits/mutually_exclusive/test.xlsx\n"
     ]
    },
    {
     "name": "stderr",
     "output_type": "stream",
     "text": [
      "/Users/bpogodzinski/.local/share/virtualenvs/project-gdFo14Ij/lib/python3.10/site-packages/pygod/utils/utility.py:52: UserWarning: The cuda is not available. Set to cpu.\n",
      "  warnings.warn('The cuda is not available. Set to cpu.')\n"
     ]
    },
    {
     "name": "stdout",
     "output_type": "stream",
     "text": [
      "Model calculation error for done:\n",
      "mat1 and mat2 shapes cannot be multiplied (3037x3037 and 7085x32)\n",
      "\n",
      "done train score:  0.46889591711173617\n",
      "Results scoring error for done:\n",
      "Found input variables with inconsistent numbers of samples: [3037, 7085]\n",
      "calculating for model adone\n",
      "Reading train data from  data/splits/mutually_exclusive/train.xlsx\n",
      "Reading test data from  data/splits/mutually_exclusive/test.xlsx\n"
     ]
    },
    {
     "name": "stderr",
     "output_type": "stream",
     "text": [
      "/Users/bpogodzinski/.local/share/virtualenvs/project-gdFo14Ij/lib/python3.10/site-packages/pygod/utils/utility.py:52: UserWarning: The cuda is not available. Set to cpu.\n",
      "  warnings.warn('The cuda is not available. Set to cpu.')\n"
     ]
    },
    {
     "name": "stdout",
     "output_type": "stream",
     "text": [
      "Model calculation error for adone:\n",
      "mat1 and mat2 shapes cannot be multiplied (3037x3037 and 7085x32)\n",
      "\n",
      "adone train score:  0.46889591711173617\n",
      "Results scoring error for adone:\n",
      "Found input variables with inconsistent numbers of samples: [3037, 7085]\n",
      "calculating for model gaan\n",
      "Reading train data from  data/splits/mutually_exclusive/train.xlsx\n",
      "Reading test data from  data/splits/mutually_exclusive/test.xlsx\n"
     ]
    },
    {
     "name": "stderr",
     "output_type": "stream",
     "text": [
      "/Users/bpogodzinski/.local/share/virtualenvs/project-gdFo14Ij/lib/python3.10/site-packages/pygod/utils/utility.py:52: UserWarning: The cuda is not available. Set to cpu.\n",
      "  warnings.warn('The cuda is not available. Set to cpu.')\n",
      "/Users/bpogodzinski/.local/share/virtualenvs/project-gdFo14Ij/lib/python3.10/site-packages/pygod/models/gaan.py:239: UserWarning: The model is transductive only. Training data is used to predict\n",
      "  warnings.warn('The model is transductive only. '\n"
     ]
    },
    {
     "name": "stdout",
     "output_type": "stream",
     "text": [
      "\n",
      "gaan train score:  0.4981769148060202\n",
      "Results scoring error for gaan:\n",
      "Found input variables with inconsistent numbers of samples: [3037, 7085]\n",
      "calculating for model ocgnn\n",
      "Reading train data from  data/splits/mutually_exclusive/train.xlsx\n",
      "Reading test data from  data/splits/mutually_exclusive/test.xlsx\n"
     ]
    },
    {
     "name": "stderr",
     "output_type": "stream",
     "text": [
      "/Users/bpogodzinski/.local/share/virtualenvs/project-gdFo14Ij/lib/python3.10/site-packages/pygod/utils/utility.py:52: UserWarning: The cuda is not available. Set to cpu.\n",
      "  warnings.warn('The cuda is not available. Set to cpu.')\n"
     ]
    },
    {
     "name": "stdout",
     "output_type": "stream",
     "text": [
      "\n",
      "ocgnn train score:  0.3975293082768236\n",
      "ocgnn test score:  0.37991686872185654\n"
     ]
    },
    {
     "data": {
      "image/png": "[encoded data removed]",
      "text/plain": [
       "<Figure size 1332x756 with 1 Axes>"
      ]
     },
     "metadata": {
      "needs_background": "light"
     },
     "output_type": "display_data"
    }
   ],
   "source": [
    "from src.models import PyGod\n",
    "\n",
    "\n",
    "swap_rate=0.05\n",
    "model_names = ['mlpae', 'gcnae', 'dominant', 'scan', 'radar', 'anomalous', 'one', 'done', 'adone', 'gaan', 'ocgnn']\n",
    "\n",
    "\n",
    "\n",
    "def get_model_scores(model_name, split_type='mutually_exclusive', swap_rate=0.01):\n",
    "    train_graph, train_target, test_graph, test_target = graph_loader(split_type=split_type, swap_rate=swap_rate)\n",
    "    \n",
    "    model = PyGod(model_name, swap_rate)\n",
    "    model.train(train_graph)\n",
    "    \n",
    "    train_outlier_scores = model.get_train_scores()\n",
    "    test_outlier_scores = model.predict(test_graph)\n",
    "    \n",
    "    \n",
    "    return train_outlier_scores, train_target, test_outlier_scores, test_target\n",
    "    \n",
    "    \n",
    "model_roc_curves = []\n",
    "\n",
    "\n",
    "model_roc_curves.append(get_random_score(test_target))\n",
    "\n",
    "    \n",
    "for model_name in model_names:\n",
    "    print(f\"calculating for model {model_name}\")\n",
    "    try:\n",
    "        train_outlier_scores, train_target, test_outlier_scores, test_target = get_model_scores(model_name, \n",
    "                                                                                                swap_rate=swap_rate)\n",
    "    except Exception as e:\n",
    "        print(f\"Model calculation error for {model_name}:\")\n",
    "        print(e)\n",
    "    \n",
    "    try:\n",
    "        print(f\"\\n{model_name} train score: \", metrics.roc_auc_score(train_target, train_outlier_scores))\n",
    "\n",
    "        test_score = metrics.roc_auc_score(test_target,test_outlier_scores)\n",
    "        print(f\"{model_name} test score: \", test_score)\n",
    "\n",
    "        fpr, tpr, _ = metrics.roc_curve(test_target, test_outlier_scores)\n",
    "\n",
    "        model_roc_curves.append({\n",
    "            'label': \"{}, auc={:.3f}\".format(model_name, test_score),\n",
    "            'fpr': fpr,\n",
    "            'tpr': tpr\n",
    "        })\n",
    "    except Exception as e:\n",
    "        print(f\"Results scoring error for {model_name}:\")\n",
    "        print(e)    \n",
    "\n",
    "\n",
    "        \n",
    "fig = plt.gcf()\n",
    "fig.set_size_inches(18.5, 10.5)\n",
    "    \n",
    "for curve in model_roc_curves:\n",
    "    plt.plot(curve['fpr'],curve['tpr'],label=curve['label'])\n",
    "    \n",
    "    \n",
    "plt.legend(loc=4)\n",
    "plt.show()"
   ]
  },
  {
   "cell_type": "code",
   "execution_count": null,
   "metadata": {},
   "outputs": [],
   "source": []
  }
 ],
 "metadata": {
  "kernelspec": {
   "display_name": "Python 3 (ipykernel)",
   "language": "python",
   "name": "python3"
  },
  "language_info": {
   "codemirror_mode": {
    "name": "ipython",
    "version": 3
   },
   "file_extension": ".py",
   "mimetype": "text/x-python",
   "name": "python",
   "nbconvert_exporter": "python",
   "pygments_lexer": "ipython3",
   "version": "3.10.2"
  },
  "vscode": {
   "interpreter": {
    "hash": "9a0203e2f48670f0925371d1cf6517870bac1f0fcff9fababa230439f0ab4d72"
   }
  }
 },
 "nbformat": 4,
 "nbformat_minor": 2
}
