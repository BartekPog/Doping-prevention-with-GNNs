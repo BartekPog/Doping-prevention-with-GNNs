{
 "cells": [
  {
   "cell_type": "code",
   "execution_count": 1,
   "metadata": {},
   "outputs": [],
   "source": [
    "import torch\n",
    "import numpy as np\n",
    "import pandas as pd\n",
    "from itertools import cycle\n",
    "from torch_geometric.data import Data\n",
    "from src.data_preparation import DataPreprocessor\n",
    "from src.graph_data_loader import graph_loader"
   ]
  },
  {
   "cell_type": "code",
   "execution_count": 2,
   "metadata": {},
   "outputs": [
    {
     "data": {
      "text/plain": [
       "Data(x=[10122, 20], edge_index=[2, 46832])"
      ]
     },
     "execution_count": 2,
     "metadata": {},
     "output_type": "execute_result"
    }
   ],
   "source": [
    "data = graph_loader()\n",
    "data"
   ]
  },
  {
   "cell_type": "code",
   "execution_count": 7,
   "metadata": {},
   "outputs": [
    {
     "name": "stdout",
     "output_type": "stream",
     "text": [
      "Number of nodes:  10122\n",
      "Number of features per node:  20\n",
      "Number of edges:  46832\n",
      "Number of edge attributes:  0\n",
      "Undirected:  True\n",
      "Isolated Nodes:  True\n",
      "Self Loops:  False\n"
     ]
    }
   ],
   "source": [
    "print(\"Number of nodes: \", data.num_nodes)\n",
    "print(\"Number of features per node: \", data.num_node_features)\n",
    "print(\"Number of edges: \", data.num_edges)\n",
    "print(\"Number of edge attributes: \", data.num_edge_features)\n",
    "print(\"Undirected: \", data.is_undirected())\n",
    "print(\"Isolated Nodes: \", data.has_isolated_nodes())\n",
    "print(\"Self Loops: \", data.has_self_loops())"
   ]
  },
  {
   "cell_type": "code",
   "execution_count": null,
   "metadata": {},
   "outputs": [],
   "source": []
  }
 ],
 "metadata": {
  "kernelspec": {
   "display_name": "Python 3.10.4 64-bit",
   "language": "python",
   "name": "python3"
  },
  "language_info": {
   "codemirror_mode": {
    "name": "ipython",
    "version": 3
   },
   "file_extension": ".py",
   "mimetype": "text/x-python",
   "name": "python",
   "nbconvert_exporter": "python",
   "pygments_lexer": "ipython3",
   "version": "3.10.4"
  },
  "orig_nbformat": 4,
  "vscode": {
   "interpreter": {
    "hash": "9a0203e2f48670f0925371d1cf6517870bac1f0fcff9fababa230439f0ab4d72"
   }
  }
 },
 "nbformat": 4,
 "nbformat_minor": 2
}
