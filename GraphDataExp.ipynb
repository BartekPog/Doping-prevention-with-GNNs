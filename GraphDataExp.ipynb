{
 "cells": [
  {
   "cell_type": "code",
   "execution_count": 9,
   "metadata": {},
   "outputs": [],
   "source": [
    "import torch\n",
    "import numpy as np\n",
    "import pandas as pd\n",
    "import numpy as np \n",
    "from itertools import cycle\n",
    "from sklearn import metrics\n",
    "from src.models import PyGod\n",
    "import matplotlib.pyplot as plt\n",
    "from torch_geometric.data import Data\n",
    "from torch_geometric.transforms import RandomLinkSplit, RandomNodeSplit\n",
    "\n",
    "from src.data_preparation import DataPreprocessor\n",
    "from src.graph_data_loader import graph_loader,  heterogeneous_graph_loader"
   ]
  },
  {
   "cell_type": "markdown",
   "metadata": {},
   "source": [
    "### Generating Train Test Split Excel Files"
   ]
  },
  {
   "cell_type": "code",
   "execution_count": 10,
   "metadata": {},
   "outputs": [],
   "source": [
    "!python src/generate_splits.py"
   ]
  },
  {
   "cell_type": "markdown",
   "metadata": {},
   "source": [
    "### Homogeneous Graph Loader Example"
   ]
  },
  {
   "cell_type": "code",
   "execution_count": 11,
   "metadata": {},
   "outputs": [
    {
     "name": "stdout",
     "output_type": "stream",
     "text": [
      "Reading train data from  data/splits/mutually_exclusive/train.xlsx\n",
      "Reading test data from  data/splits/mutually_exclusive/test.xlsx\n"
     ]
    }
   ],
   "source": [
    "train_graph, test_graph = graph_loader(split_type='mutually_exclusive', swap_rate=0.1)"
   ]
  },
  {
   "cell_type": "code",
   "execution_count": 12,
   "metadata": {},
   "outputs": [
    {
     "name": "stdout",
     "output_type": "stream",
     "text": [
      "Train Details: \n",
      "\n",
      "Number of nodes:  7085\n",
      "Number of features per node:  20\n",
      "Number of edges:  33474\n",
      "Number of edge attributes:  0\n",
      "Undirected:  True\n",
      "Isolated Nodes:  True\n",
      "Self Loops:  False\n"
     ]
    }
   ],
   "source": [
    "print(\"Train Details: \\n\")\n",
    "print(\"Number of nodes: \", train_graph.num_nodes)\n",
    "print(\"Number of features per node: \", train_graph.num_node_features)\n",
    "print(\"Number of edges: \", train_graph.num_edges)\n",
    "print(\"Number of edge attributes: \", train_graph.num_edge_features)\n",
    "print(\"Undirected: \", train_graph.is_undirected())\n",
    "print(\"Isolated Nodes: \", train_graph.has_isolated_nodes())\n",
    "print(\"Self Loops: \", train_graph.has_self_loops())"
   ]
  },
  {
   "cell_type": "code",
   "execution_count": 13,
   "metadata": {},
   "outputs": [
    {
     "name": "stdout",
     "output_type": "stream",
     "text": [
      "Test Details: \n",
      "\n",
      "Number of nodes:  3037\n",
      "Number of features per node:  20\n",
      "Number of edges:  13258\n",
      "Number of edge attributes:  0\n",
      "Undirected:  True\n",
      "Isolated Nodes:  True\n",
      "Self Loops:  False\n"
     ]
    }
   ],
   "source": [
    "print(\"Test Details: \\n\")\n",
    "print(\"Number of nodes: \", test_graph.num_nodes)\n",
    "print(\"Number of features per node: \", test_graph.num_node_features)\n",
    "print(\"Number of edges: \", test_graph.num_edges)\n",
    "print(\"Number of edge attributes: \", test_graph.num_edge_features)\n",
    "print(\"Undirected: \", test_graph.is_undirected())\n",
    "print(\"Isolated Nodes: \", test_graph.has_isolated_nodes())\n",
    "print(\"Self Loops: \", test_graph.has_self_loops())"
   ]
  },
  {
   "cell_type": "markdown",
   "metadata": {},
   "source": [
    "### Heterogeneous Graph Loader Example"
   ]
  },
  {
   "cell_type": "code",
   "execution_count": 14,
   "metadata": {},
   "outputs": [
    {
     "name": "stdout",
     "output_type": "stream",
     "text": [
      "HeteroData(\n",
      "  \u001b[1msample\u001b[0m={\n",
      "    x=[10122, 20],\n",
      "    y=[10122]\n",
      "  },\n",
      "  \u001b[1mathlete\u001b[0m={ x=[2840, 2] },\n",
      "  \u001b[1m(athlete, knows, athlete)\u001b[0m={ edge_index=[2, 8062760] },\n",
      "  \u001b[1m(sample, belongs_to, athlete)\u001b[0m={ edge_index=[2, 10122] }\n",
      ")\n"
     ]
    }
   ],
   "source": [
    "het_train_graph, het_test_graph = heterogeneous_graph_loader(split_type='whole', swap_rate=0.1)\n",
    "print(het_train_graph)"
   ]
  },
  {
   "cell_type": "code",
   "execution_count": 15,
   "metadata": {},
   "outputs": [
    {
     "name": "stdout",
     "output_type": "stream",
     "text": [
      "(HeteroData(\n",
      "  \u001b[1msample\u001b[0m={\n",
      "    x=[10122, 20],\n",
      "    y=[10122]\n",
      "  },\n",
      "  \u001b[1mathlete\u001b[0m={ x=[2840, 2] },\n",
      "  \u001b[1m(athlete, knows, athlete)\u001b[0m={ edge_index=[2, 8062760] },\n",
      "  \u001b[1m(sample, belongs_to, athlete)\u001b[0m={\n",
      "    edge_index=[2, 7086],\n",
      "    edge_label=[14172],\n",
      "    edge_label_index=[2, 14172]\n",
      "  }\n",
      "), HeteroData(\n",
      "  \u001b[1msample\u001b[0m={\n",
      "    x=[10122, 20],\n",
      "    y=[10122]\n",
      "  },\n",
      "  \u001b[1mathlete\u001b[0m={ x=[2840, 2] },\n",
      "  \u001b[1m(athlete, knows, athlete)\u001b[0m={ edge_index=[2, 8062760] },\n",
      "  \u001b[1m(sample, belongs_to, athlete)\u001b[0m={\n",
      "    edge_index=[2, 7086],\n",
      "    edge_label=[2024],\n",
      "    edge_label_index=[2, 2024]\n",
      "  }\n",
      "), HeteroData(\n",
      "  \u001b[1msample\u001b[0m={\n",
      "    x=[10122, 20],\n",
      "    y=[10122]\n",
      "  },\n",
      "  \u001b[1mathlete\u001b[0m={ x=[2840, 2] },\n",
      "  \u001b[1m(athlete, knows, athlete)\u001b[0m={ edge_index=[2, 8062760] },\n",
      "  \u001b[1m(sample, belongs_to, athlete)\u001b[0m={\n",
      "    edge_index=[2, 8098],\n",
      "    edge_label=[4048],\n",
      "    edge_label_index=[2, 4048]\n",
      "  }\n",
      "))\n"
     ]
    }
   ],
   "source": [
    "het_transform = RandomLinkSplit(edge_types=('sample', 'belongs_to', 'athlete'))\n",
    "het_data = het_transform(het_train_graph)\n",
    "print(het_data)"
   ]
  },
  {
   "cell_type": "code",
   "execution_count": 16,
   "metadata": {},
   "outputs": [
    {
     "name": "stdout",
     "output_type": "stream",
     "text": [
      "HeteroData(\n",
      "  \u001b[1msample\u001b[0m={\n",
      "    x=[10122, 20],\n",
      "    y=[10122],\n",
      "    train_mask=[10122],\n",
      "    val_mask=[10122],\n",
      "    test_mask=[10122]\n",
      "  },\n",
      "  \u001b[1mathlete\u001b[0m={ x=[2840, 2] },\n",
      "  \u001b[1m(athlete, knows, athlete)\u001b[0m={ edge_index=[2, 8062760] },\n",
      "  \u001b[1m(sample, belongs_to, athlete)\u001b[0m={ edge_index=[2, 10122] }\n",
      ")\n"
     ]
    }
   ],
   "source": [
    "het_transform = RandomNodeSplit(num_train_per_class=400)\n",
    "het_data = het_transform(het_train_graph)\n",
    "print(het_data)"
   ]
  },
  {
   "cell_type": "code",
   "execution_count": 21,
   "metadata": {},
   "outputs": [
    {
     "name": "stdout",
     "output_type": "stream",
     "text": [
      "Number of sample nodes:  10122\n",
      "Number of athlete nodes:  2840\n",
      "Number of features per sample node:  20\n",
      "Number of features per athlete node:  2\n",
      "Number of edges:  8072882\n",
      "Number of edge attributes:  0\n",
      "Number of training nodes:  8622\n",
      "Undirected:  False\n",
      "Isolated Nodes:  True\n",
      "Self Loops:  False\n"
     ]
    }
   ],
   "source": [
    "print(\"Number of sample nodes: \", het_train_graph['sample'].num_nodes)\n",
    "print(\"Number of athlete nodes: \", het_train_graph['athlete'].num_nodes)\n",
    "print(\"Number of features per sample node: \", het_train_graph['sample'].num_node_features)\n",
    "print(\"Number of features per athlete node: \", het_train_graph['athlete'].num_node_features)\n",
    "print(\"Number of edges: \", het_train_graph.num_edges)\n",
    "print(\"Number of edge attributes: \", train_graph.num_edge_features)\n",
    "print(\"Number of training nodes: \", het_data['sample'].train_mask.sum().item())\n",
    "print(\"Undirected: \", het_data.is_undirected())\n",
    "print(\"Isolated Nodes: \", het_data.has_isolated_nodes())\n",
    "print(\"Self Loops: \", het_data.has_self_loops())"
   ]
  },
  {
   "cell_type": "code",
   "execution_count": null,
   "metadata": {},
   "outputs": [],
   "source": []
  }
 ],
 "metadata": {
  "kernelspec": {
   "display_name": "Python 3 (ipykernel)",
   "language": "python",
   "name": "python3"
  },
  "language_info": {
   "codemirror_mode": {
    "name": "ipython",
    "version": 3
   },
   "file_extension": ".py",
   "mimetype": "text/x-python",
   "name": "python",
   "nbconvert_exporter": "python",
   "pygments_lexer": "ipython3",
   "version": "3.10.4"
  },
  "vscode": {
   "interpreter": {
    "hash": "9a0203e2f48670f0925371d1cf6517870bac1f0fcff9fababa230439f0ab4d72"
   }
  }
 },
 "nbformat": 4,
 "nbformat_minor": 2
}
